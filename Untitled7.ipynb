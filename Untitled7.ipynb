{
  "nbformat": 4,
  "nbformat_minor": 0,
  "metadata": {
    "colab": {
      "provenance": [],
      "authorship_tag": "ABX9TyMv0/BsHM2uSokEf7U+y9ZP",
      "include_colab_link": true
    },
    "kernelspec": {
      "name": "python3",
      "display_name": "Python 3"
    },
    "language_info": {
      "name": "python"
    }
  },
  "cells": [
    {
      "cell_type": "markdown",
      "metadata": {
        "id": "view-in-github",
        "colab_type": "text"
      },
      "source": [
        "<a href=\"https://colab.research.google.com/github/mayankthaparrr/localrepo/blob/main/Untitled7.ipynb\" target=\"_parent\"><img src=\"https://colab.research.google.com/assets/colab-badge.svg\" alt=\"Open In Colab\"/></a>"
      ]
    },
    {
      "cell_type": "code",
      "execution_count": 1,
      "metadata": {
        "id": "MFwjdwYukGCl",
        "colab": {
          "base_uri": "https://localhost:8080/"
        },
        "outputId": "4af0622c-4e08-4c08-8b7a-12b493fed415"
      },
      "outputs": [
        {
          "output_type": "stream",
          "name": "stdout",
          "text": [
            "Cloning into 'AO'...\n",
            "remote: Enumerating objects: 237, done.\u001b[K\n",
            "remote: Counting objects: 100% (100/100), done.\u001b[K\n",
            "remote: Compressing objects: 100% (90/90), done.\u001b[K\n",
            "remote: Total 237 (delta 17), reused 91 (delta 9), pack-reused 137\u001b[K\n",
            "Receiving objects: 100% (237/237), 265.76 MiB | 23.33 MiB/s, done.\n",
            "Resolving deltas: 100% (37/37), done.\n",
            "Updating files: 100% (127/127), done.\n"
          ]
        }
      ],
      "source": [
        "!git clone https://github.com/shah-krish-p/AO.git"
      ]
    },
    {
      "cell_type": "code",
      "source": [],
      "metadata": {
        "id": "J8yL3oypknAD"
      },
      "execution_count": null,
      "outputs": []
    }
  ]
}